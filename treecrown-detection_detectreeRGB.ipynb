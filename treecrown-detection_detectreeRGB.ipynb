{
 "nbformat": 4,
 "nbformat_minor": 0,
 "metadata": {
  "kernelspec": {
   "display_name": "Python 3",
   "language": "python",
   "name": "python3"
  },
  "language_info": {
   "codemirror_mode": {
    "name": "ipython",
    "version": 3
   },
   "file_extension": ".py",
   "mimetype": "text/x-python",
   "name": "python",
   "nbconvert_exporter": "python",
   "pygments_lexer": "ipython3",
   "version": "3.8.3"
  },
  "colab": {
   "name": "pretrained_imagenet_scivision_example.ipynb",
   "provenance": []
  }
 },
 "cells": [
  {
   "cell_type": "markdown",
   "metadata": {
    "id": "dTrSnwGXhdEQ"
   },
   "source": [
    "# Work in Progress\n",
    "\n",
    "### End-to-end a pretrained/prebuilt model from a github repo into `scivision`\n",
    "\n",
    "Provides an example of end-to-end pipeling from the following test repo as a scivision Model:\n",
    "https://github.com/acocac/scivision-treecrown-plugin\n",
    "   \n",
    "The code calls the repo from the catalog and run end-to-end example using Detectron pretrained/prebuilt models."
   ]
  },
  {
   "cell_type": "markdown",
   "metadata": {
    "id": "mHzf9T_KhdEW"
   },
   "source": [
    "## Load libraries"
   ]
  },
  {
   "cell_type": "code",
   "metadata": {
    "id": "qinhbeu7hdEY"
   },
   "source": [
    "from scivision.io import load_dataset, load_pretrained_model\n",
    "from intake_zenodo_fetcher import download_zenodo_files_for_entry"
   ],
   "execution_count": 67,
   "outputs": []
  },
  {
   "cell_type": "markdown",
   "metadata": {
    "id": "GjhjETEEhdEa"
   },
   "source": [
    "## Catalog"
   ]
  },
  {
   "cell_type": "code",
   "metadata": {
    "pycharm": {
     "name": "#%%\n"
    },
    "id": "mmEMrSMJhdEc"
   },
   "source": [
    "cat = load_dataset('https://github.com/acocac/scivision-forest-datasets/drone_tropics.yml')"
   ],
   "execution_count": 68,
   "outputs": []
  },
  {
   "cell_type": "code",
   "source": [
    "download_zenodo_files_for_entry(cat['sepilok_rgb'], force_download=False)"
   ],
   "metadata": {
    "colab": {
     "base_uri": "https://localhost:8080/"
    },
    "id": "EvDh4jkN8oru",
    "outputId": "145d563c-d6ab-4f5f-9f4e-196322211ef2"
   },
   "execution_count": 69,
   "outputs": [
    {
     "output_type": "execute_result",
     "data": {
      "text/plain": [
       "[PosixPath('Sep_2014_RGB_602500_646600.tif')]"
      ]
     },
     "metadata": {},
     "execution_count": 69
    }
   ]
  },
  {
   "cell_type": "code",
   "source": [
    "tc_rgb  = cat[\"sepilok_rgb\"]"
   ],
   "metadata": {
    "id": "Of6dhYqz-Z7e"
   },
   "execution_count": 70,
   "outputs": []
  },
  {
   "cell_type": "code",
   "source": [
    "img_drone = cat.sepilok_rgb().to_dask()\n"
   ],
   "metadata": {
    "id": "B8FtlZMM8qp0"
   },
   "execution_count": 74,
   "outputs": []
  },
  {
   "cell_type": "markdown",
   "metadata": {
    "id": "lPi33aEuhdEd"
   },
   "source": [
    "## Model settings and config"
   ]
  },
  {
   "cell_type": "code",
   "metadata": {
    "id": "wOk5mQyhhdEe",
    "colab": {
     "base_uri": "https://localhost:8080/",
     "height": 420
    },
    "outputId": "4ec9d0f4-3e4a-4b34-b4e8-7c20c2508fc2"
   },
   "source": [
    "# Load model\n",
    "scivision_yml = 'https://github.com/acocac/scivision-treecrown-plugin/.scivision-config.yaml'\n",
    "model = load_pretrained_model(scivision_yml, allow_install=True)"
   ],
   "execution_count": 77,
   "outputs": [
    {
     "output_type": "stream",
     "name": "stderr",
     "text": [
      "INFO:scivision.koala:Call='load_pretrained_model', module='scivision.io.reader', signature=(path: os.PathLike, branch: str = 'main', allow_install: bool = False, *args, **kwargs) -> scivision.io.wrapper.PretrainedModel, kwargs_given='allow_install'\n",
      "ERROR:scivision.koala:Command '['/usr/bin/python3', '-m', 'pip', 'install', 'git+https://github.com/acocac/scivision-treecrown-plugin@main#egg=src']' returned non-zero exit status 1.\n"
     ]
    },
    {
     "output_type": "error",
     "ename": "CalledProcessError",
     "evalue": "ignored",
     "traceback": [
      "\u001B[0;31m---------------------------------------------------------------------------\u001B[0m",
      "\u001B[0;31mCalledProcessError\u001B[0m                        Traceback (most recent call last)",
      "\u001B[0;32m<ipython-input-77-de07dfa10218>\u001B[0m in \u001B[0;36m<module>\u001B[0;34m()\u001B[0m\n\u001B[1;32m      1\u001B[0m \u001B[0;31m# Load model\u001B[0m\u001B[0;34m\u001B[0m\u001B[0;34m\u001B[0m\u001B[0;34m\u001B[0m\u001B[0m\n\u001B[1;32m      2\u001B[0m \u001B[0mscivision_yml\u001B[0m \u001B[0;34m=\u001B[0m \u001B[0;34m'https://github.com/acocac/scivision-treecrown-plugin/.scivision-config.yaml'\u001B[0m\u001B[0;34m\u001B[0m\u001B[0;34m\u001B[0m\u001B[0m\n\u001B[0;32m----> 3\u001B[0;31m \u001B[0mmodel\u001B[0m \u001B[0;34m=\u001B[0m \u001B[0mload_pretrained_model\u001B[0m\u001B[0;34m(\u001B[0m\u001B[0mscivision_yml\u001B[0m\u001B[0;34m,\u001B[0m \u001B[0mallow_install\u001B[0m\u001B[0;34m=\u001B[0m\u001B[0;32mTrue\u001B[0m\u001B[0;34m)\u001B[0m\u001B[0;34m\u001B[0m\u001B[0;34m\u001B[0m\u001B[0m\n\u001B[0m",
      "\u001B[0;32m/usr/local/lib/python3.7/dist-packages/scivision/koala.py\u001B[0m in \u001B[0;36mwrapped_fn\u001B[0;34m(*args, **kwargs)\u001B[0m\n\u001B[1;32m     51\u001B[0m         \u001B[0;31m# now call the function, but log any exceptions\u001B[0m\u001B[0;34m\u001B[0m\u001B[0;34m\u001B[0m\u001B[0;34m\u001B[0m\u001B[0m\n\u001B[1;32m     52\u001B[0m         \u001B[0;32mtry\u001B[0m\u001B[0;34m:\u001B[0m\u001B[0;34m\u001B[0m\u001B[0;34m\u001B[0m\u001B[0m\n\u001B[0;32m---> 53\u001B[0;31m             \u001B[0moutput\u001B[0m \u001B[0;34m=\u001B[0m \u001B[0mfn\u001B[0m\u001B[0;34m(\u001B[0m\u001B[0;34m*\u001B[0m\u001B[0margs\u001B[0m\u001B[0;34m,\u001B[0m \u001B[0;34m**\u001B[0m\u001B[0mkwargs\u001B[0m\u001B[0;34m)\u001B[0m\u001B[0;34m\u001B[0m\u001B[0;34m\u001B[0m\u001B[0m\n\u001B[0m\u001B[1;32m     54\u001B[0m         \u001B[0;32mexcept\u001B[0m \u001B[0mException\u001B[0m \u001B[0;32mas\u001B[0m \u001B[0me\u001B[0m\u001B[0;34m:\u001B[0m\u001B[0;34m\u001B[0m\u001B[0;34m\u001B[0m\u001B[0m\n\u001B[1;32m     55\u001B[0m             \u001B[0mlogger\u001B[0m\u001B[0;34m.\u001B[0m\u001B[0merror\u001B[0m\u001B[0;34m(\u001B[0m\u001B[0me\u001B[0m\u001B[0;34m)\u001B[0m\u001B[0;34m\u001B[0m\u001B[0;34m\u001B[0m\u001B[0m\n",
      "\u001B[0;32m/usr/local/lib/python3.7/dist-packages/scivision/io/reader.py\u001B[0m in \u001B[0;36mload_pretrained_model\u001B[0;34m(path, branch, allow_install, *args, **kwargs)\u001B[0m\n\u001B[1;32m     81\u001B[0m \u001B[0;34m\u001B[0m\u001B[0m\n\u001B[1;32m     82\u001B[0m     \u001B[0;31m# try to install the package if necessary\u001B[0m\u001B[0;34m\u001B[0m\u001B[0;34m\u001B[0m\u001B[0;34m\u001B[0m\u001B[0m\n\u001B[0;32m---> 83\u001B[0;31m     \u001B[0minstall_package\u001B[0m\u001B[0;34m(\u001B[0m\u001B[0mconfig\u001B[0m\u001B[0;34m,\u001B[0m \u001B[0mallow_install\u001B[0m\u001B[0;34m=\u001B[0m\u001B[0mallow_install\u001B[0m\u001B[0;34m)\u001B[0m\u001B[0;34m\u001B[0m\u001B[0;34m\u001B[0m\u001B[0m\n\u001B[0m\u001B[1;32m     84\u001B[0m \u001B[0;34m\u001B[0m\u001B[0m\n\u001B[1;32m     85\u001B[0m     \u001B[0;32mreturn\u001B[0m \u001B[0mPretrainedModel\u001B[0m\u001B[0;34m(\u001B[0m\u001B[0mconfig\u001B[0m\u001B[0;34m)\u001B[0m\u001B[0;34m\u001B[0m\u001B[0;34m\u001B[0m\u001B[0m\n",
      "\u001B[0;32m/usr/local/lib/python3.7/dist-packages/scivision/io/installer.py\u001B[0m in \u001B[0;36minstall_package\u001B[0;34m(config, allow_install)\u001B[0m\n\u001B[1;32m     37\u001B[0m \u001B[0;34m\u001B[0m\u001B[0m\n\u001B[1;32m     38\u001B[0m         \u001B[0;32mif\u001B[0m \u001B[0mallow_install\u001B[0m\u001B[0;34m:\u001B[0m\u001B[0;34m\u001B[0m\u001B[0;34m\u001B[0m\u001B[0m\n\u001B[0;32m---> 39\u001B[0;31m             \u001B[0m_install\u001B[0m\u001B[0;34m(\u001B[0m\u001B[0mpackage\u001B[0m\u001B[0;34m)\u001B[0m\u001B[0;34m\u001B[0m\u001B[0;34m\u001B[0m\u001B[0m\n\u001B[0m\u001B[1;32m     40\u001B[0m         \u001B[0;32melse\u001B[0m\u001B[0;34m:\u001B[0m\u001B[0;34m\u001B[0m\u001B[0;34m\u001B[0m\u001B[0m\n\u001B[1;32m     41\u001B[0m             raise Exception(\n",
      "\u001B[0;32m/usr/local/lib/python3.7/dist-packages/scivision/io/installer.py\u001B[0m in \u001B[0;36m_install\u001B[0;34m(package)\u001B[0m\n\u001B[1;32m     25\u001B[0m \u001B[0;32mdef\u001B[0m \u001B[0m_install\u001B[0m\u001B[0;34m(\u001B[0m\u001B[0mpackage\u001B[0m\u001B[0;34m)\u001B[0m\u001B[0;34m:\u001B[0m\u001B[0;34m\u001B[0m\u001B[0;34m\u001B[0m\u001B[0m\n\u001B[1;32m     26\u001B[0m     \u001B[0;34m\"\"\"Install a package using pip.\"\"\"\u001B[0m\u001B[0;34m\u001B[0m\u001B[0;34m\u001B[0m\u001B[0m\n\u001B[0;32m---> 27\u001B[0;31m     \u001B[0msubprocess\u001B[0m\u001B[0;34m.\u001B[0m\u001B[0mcheck_call\u001B[0m\u001B[0;34m(\u001B[0m\u001B[0;34m[\u001B[0m\u001B[0msys\u001B[0m\u001B[0;34m.\u001B[0m\u001B[0mexecutable\u001B[0m\u001B[0;34m,\u001B[0m \u001B[0;34m\"-m\"\u001B[0m\u001B[0;34m,\u001B[0m \u001B[0;34m\"pip\"\u001B[0m\u001B[0;34m,\u001B[0m \u001B[0;34m\"install\"\u001B[0m\u001B[0;34m,\u001B[0m \u001B[0mpackage\u001B[0m\u001B[0;34m]\u001B[0m\u001B[0;34m)\u001B[0m\u001B[0;34m\u001B[0m\u001B[0;34m\u001B[0m\u001B[0m\n\u001B[0m\u001B[1;32m     28\u001B[0m \u001B[0;34m\u001B[0m\u001B[0m\n\u001B[1;32m     29\u001B[0m \u001B[0;34m\u001B[0m\u001B[0m\n",
      "\u001B[0;32m/usr/lib/python3.7/subprocess.py\u001B[0m in \u001B[0;36mcheck_call\u001B[0;34m(*popenargs, **kwargs)\u001B[0m\n\u001B[1;32m    361\u001B[0m         \u001B[0;32mif\u001B[0m \u001B[0mcmd\u001B[0m \u001B[0;32mis\u001B[0m \u001B[0;32mNone\u001B[0m\u001B[0;34m:\u001B[0m\u001B[0;34m\u001B[0m\u001B[0;34m\u001B[0m\u001B[0m\n\u001B[1;32m    362\u001B[0m             \u001B[0mcmd\u001B[0m \u001B[0;34m=\u001B[0m \u001B[0mpopenargs\u001B[0m\u001B[0;34m[\u001B[0m\u001B[0;36m0\u001B[0m\u001B[0;34m]\u001B[0m\u001B[0;34m\u001B[0m\u001B[0;34m\u001B[0m\u001B[0m\n\u001B[0;32m--> 363\u001B[0;31m         \u001B[0;32mraise\u001B[0m \u001B[0mCalledProcessError\u001B[0m\u001B[0;34m(\u001B[0m\u001B[0mretcode\u001B[0m\u001B[0;34m,\u001B[0m \u001B[0mcmd\u001B[0m\u001B[0;34m)\u001B[0m\u001B[0;34m\u001B[0m\u001B[0;34m\u001B[0m\u001B[0m\n\u001B[0m\u001B[1;32m    364\u001B[0m     \u001B[0;32mreturn\u001B[0m \u001B[0;36m0\u001B[0m\u001B[0;34m\u001B[0m\u001B[0;34m\u001B[0m\u001B[0m\n\u001B[1;32m    365\u001B[0m \u001B[0;34m\u001B[0m\u001B[0m\n",
      "\u001B[0;31mCalledProcessError\u001B[0m: Command '['/usr/bin/python3', '-m', 'pip', 'install', 'git+https://github.com/acocac/scivision-treecrown-plugin@main#egg=src']' returned non-zero exit status 1."
     ]
    }
   ]
  },
  {
   "cell_type": "code",
   "metadata": {
    "pycharm": {
     "name": "#%%\n"
    },
    "colab": {
     "base_uri": "https://localhost:8080/"
    },
    "id": "jQXKo2PbhdEf",
    "outputId": "0e06abef-0b4f-4c85-92dd-22426e448e71"
   },
   "source": [
    "# let's explore the model object\n",
    "model"
   ],
   "execution_count": null,
   "outputs": [
    {
     "output_type": "execute_result",
     "data": {
      "text/plain": [
       "scivision.PretrainedModel( \n",
       "  module='scivision_test_plugin', \n",
       "  model='ImageNetModel', \n",
       "  source='https://github.com/quantumjot/scivision-test-plugin.git' \n",
       "  pipe='DataPipe(input=<Parameter \"X: numpy.ndarray\">, output=<Parameter \"image: numpy.ndarray\">)' \n",
       ")"
      ]
     },
     "metadata": {},
     "execution_count": 7
    }
   ]
  },
  {
   "cell_type": "markdown",
   "metadata": {
    "id": "SsW_h6fVhdEf"
   },
   "source": [
    "## Load input image"
   ]
  },
  {
   "cell_type": "code",
   "metadata": {
    "id": "dMrwS6oYhdEg"
   },
   "source": [
    "# libraries\n",
    "import matplotlib.pyplot as plt\n",
    "import numpy as np\n",
    "import cv2\n",
    "from detectron2.utils.visualizer import Visualizer, ColorMode\n",
    "from PIL import Image\n",
    "from IPython.display import display"
   ],
   "execution_count": null,
   "outputs": []
  },
  {
   "cell_type": "code",
   "metadata": {
    "pycharm": {
     "name": "#%%\n"
    },
    "id": "aNfJZJg1hdEg"
   },
   "source": [
    "minx = 602500\n",
    "miny = 646600\n",
    "\n",
    "R = tc_rgb[0]\n",
    "G = tc_rgb[1]\n",
    "B = tc_rgb[2]\n",
    "\n",
    "# stack up the bands in an order appropriate for saving with cv2, then rescale to the correct 0-255 range for cv2\n",
    "\n",
    "# you will have to change the rescaling depending on the values of your tiff!\n",
    "rgb = np.dstack((R, G, B))  # BGR for cv2\n",
    "rgb_rescaled = 255 * rgb / 65535  # scale to image\n",
    "\n",
    "# save this as png, named with the origin of the specific tile - change the filepath!\n",
    "filepath = 'tile_' + str(minx) + '_' + str(miny) + '.png'\n",
    "cv2.imwrite(filepath, rgb_rescaled)\n",
    "\n",
    "X = cv2.imread(filepath)\n",
    "\n",
    "y = model.predict(X)\n",
    "\n",
    "v = Visualizer(X[:, :, ::-1], scale=1.5, instance_mode=ColorMode.IMAGE_BW)   # remove the colors of unsegmented pixels\n",
    "v = v.draw_instance_predictions(y[\"instances\"].to(\"cpu\"))\n",
    "image = cv2.cvtColor(v.get_image()[:, :, :], cv2.COLOR_BGR2RGB)\n",
    "display(Image.fromarray(image))"
   ],
   "execution_count": null,
   "outputs": []
  }
 ]
}