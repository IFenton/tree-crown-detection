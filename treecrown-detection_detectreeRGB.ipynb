{
 "cells": [
  {
   "cell_type": "markdown",
   "metadata": {
    "id": "dTrSnwGXhdEQ"
   },
   "source": [
    "# End-to-end `scivision` pipeline for a pretrained/prebuilt model for tree crown detection\n",
    "\n",
    "This notebook demonstrates `scivision` to load `detectreeRGB`, a pretrained model to predict the location and extent of tree crowns from a top-down RGB image, captured by drone, aircraft or satellite. `detectreeRGB` was implemented in python 3.8 using Mask R-CNN deployed from [detectron2](https://github.com/facebookresearch/detectron2/blob/main/docs/tutorials/install.md) library to delineate tree crowns accurately.\n",
    "Further details of the `detectreeRGB` can be found in [the original model repository](https://github.com/shmh40/detectreeRGB).\n",
    "\n",
    "The code of this notebook let `scivision` to fetch input data from:\n",
    "https://github.com/acocac/scivision-forest-datasets/drone_tropics.yml\n",
    "\n",
    "and load the pretrained `detectreeRGB` from:\n",
    "https://github.com/acocac/scivision-treecrown-plugin"
   ]
  },
  {
   "cell_type": "markdown",
   "metadata": {
    "id": "mHzf9T_KhdEW"
   },
   "source": [
    "## Data catalogue\n",
    "\n",
    "### Load libraries"
   ]
  },
  {
   "cell_type": "code",
   "execution_count": null,
   "metadata": {
    "id": "qinhbeu7hdEY"
   },
   "outputs": [],
   "source": [
    "from scivision.io import load_dataset, load_pretrained_model\n",
    "from intake_zenodo_fetcher import download_zenodo_files_for_entry"
   ]
  },
  {
   "cell_type": "markdown",
   "metadata": {
    "id": "GjhjETEEhdEa"
   },
   "source": [
    "### Load images"
   ]
  },
  {
   "cell_type": "code",
   "execution_count": null,
   "metadata": {
    "id": "mmEMrSMJhdEc",
    "pycharm": {
     "name": "#%%\n"
    }
   },
   "outputs": [],
   "source": [
    "cat = load_dataset('https://github.com/acocac/scivision-forest-datasets/drone_tropics.yml')"
   ]
  },
  {
   "cell_type": "code",
   "execution_count": null,
   "metadata": {
    "colab": {
     "base_uri": "https://localhost:8080/"
    },
    "id": "EvDh4jkN8oru",
    "outputId": "145d563c-d6ab-4f5f-9f4e-196322211ef2"
   },
   "outputs": [],
   "source": [
    "download_zenodo_files_for_entry(cat['sepilok_rgb'], force_download=False)"
   ]
  },
  {
   "cell_type": "code",
   "execution_count": null,
   "metadata": {
    "id": "Of6dhYqz-Z7e"
   },
   "outputs": [],
   "source": [
    "tc_rgb  = cat[\"sepilok_rgb\"].to_dask()"
   ]
  },
  {
   "cell_type": "markdown",
   "metadata": {
    "id": "lPi33aEuhdEd"
   },
   "source": [
    "## Model catalogue\n",
    "\n",
    "### Install model"
   ]
  },
  {
   "cell_type": "code",
   "execution_count": null,
   "metadata": {
    "colab": {
     "base_uri": "https://localhost:8080/",
     "height": 420
    },
    "id": "wOk5mQyhhdEe",
    "outputId": "4ec9d0f4-3e4a-4b34-b4e8-7c20c2508fc2"
   },
   "outputs": [],
   "source": [
    "# Load model\n",
    "scivision_yml = 'https://github.com/acocac/scivision-treecrown-plugin/.scivision-config.yaml'\n",
    "model = load_pretrained_model(scivision_yml, allow_install=True)"
   ]
  },
  {
   "cell_type": "code",
   "execution_count": null,
   "metadata": {
    "colab": {
     "base_uri": "https://localhost:8080/"
    },
    "id": "jQXKo2PbhdEf",
    "outputId": "0e06abef-0b4f-4c85-92dd-22426e448e71",
    "pycharm": {
     "name": "#%%\n"
    }
   },
   "outputs": [],
   "source": [
    "# let's explore the model object\n",
    "model"
   ]
  },
  {
   "cell_type": "markdown",
   "metadata": {
    "id": "SsW_h6fVhdEf"
   },
   "source": [
    "### Load libraries"
   ]
  },
  {
   "cell_type": "code",
   "execution_count": null,
   "outputs": [],
   "source": [
    "!pip install opencv-python-headless"
   ],
   "metadata": {
    "collapsed": false,
    "pycharm": {
     "name": "#%%\n"
    }
   }
  },
  {
   "cell_type": "code",
   "execution_count": null,
   "metadata": {
    "id": "dMrwS6oYhdEg"
   },
   "outputs": [],
   "source": [
    "import numpy as np\n",
    "import cv2\n",
    "from detectron2.utils.visualizer import Visualizer, ColorMode\n",
    "from PIL import Image\n",
    "from IPython.display import display"
   ]
  },
  {
   "cell_type": "markdown",
   "metadata": {
    "id": "aNfJZJg1hdEg",
    "pycharm": {
     "name": "#%% md\n"
    }
   },
   "source": [
    "## Data preparation"
   ]
  },
  {
   "cell_type": "code",
   "execution_count": null,
   "outputs": [],
   "source": [
    "minx = 602500\n",
    "miny = 646600\n",
    "\n",
    "R = tc_rgb[0]\n",
    "G = tc_rgb[1]\n",
    "B = tc_rgb[2]\n",
    "\n",
    "# stack up the bands in an order appropriate for saving with cv2, then rescale to the correct 0-255 range for cv2\n",
    "\n",
    "# you will have to change the rescaling depending on the values of your tiff!\n",
    "rgb = np.dstack((R, G, B))  # BGR for cv2\n",
    "rgb_rescaled = 255 * rgb / 65535  # scale to image\n",
    "\n",
    "# save this as png, named with the origin of the specific tile - change the filepath!\n",
    "filepath = 'tile_' + str(minx) + '_' + str(miny) + '.png'\n",
    "cv2.imwrite(filepath, rgb_rescaled)\n",
    "\n",
    "X = cv2.imread(filepath)"
   ],
   "metadata": {
    "collapsed": false,
    "pycharm": {
     "name": "#%%\n"
    }
   }
  },
  {
   "cell_type": "markdown",
   "source": [
    "## Prediction and visualisation"
   ],
   "metadata": {
    "collapsed": false
   }
  },
  {
   "cell_type": "code",
   "execution_count": null,
   "outputs": [],
   "source": [
    "y = model.predict(X)\n",
    "\n",
    "v = Visualizer(X[:, :, ::-1], scale=1.5, instance_mode=ColorMode.IMAGE_BW)   # remove the colors of unsegmented pixels\n",
    "v = v.draw_instance_predictions(y[\"instances\"].to(\"cpu\"))\n",
    "image = cv2.cvtColor(v.get_image()[:, :, :], cv2.COLOR_BGR2RGB)\n",
    "display(Image.fromarray(image))"
   ],
   "metadata": {
    "collapsed": false,
    "pycharm": {
     "name": "#%%\n"
    }
   }
  }
 ],
 "metadata": {
  "colab": {
   "name": "pretrained_imagenet_scivision_example.ipynb",
   "provenance": []
  },
  "kernelspec": {
   "display_name": "Python 3 (ipykernel)",
   "language": "python",
   "name": "python3"
  },
  "language_info": {
   "codemirror_mode": {
    "name": "ipython",
    "version": 3
   },
   "file_extension": ".py",
   "mimetype": "text/x-python",
   "name": "python",
   "nbconvert_exporter": "python",
   "pygments_lexer": "ipython3",
   "version": "3.9.6"
  }
 },
 "nbformat": 4,
 "nbformat_minor": 1
}